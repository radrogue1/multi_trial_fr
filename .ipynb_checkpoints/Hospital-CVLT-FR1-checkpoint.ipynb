{
 "cells": [
  {
   "cell_type": "code",
   "execution_count": 11,
   "metadata": {},
   "outputs": [],
   "source": [
    "import numpy as np\n",
    "import pandas as pd\n",
    "import os\n",
    "import glob\n",
    "import seaborn as sns\n",
    "import matplotlib.pyplot as plt\n",
    "from datetime import datetime\n",
    "import warnings\n",
    "import scipy\n",
    "from pandas.core.common import SettingWithCopyWarning\n",
    "warnings.simplefilter(action='ignore', category=SettingWithCopyWarning)\n",
    "from cmlreaders import CMLReader, get_data_index\n",
    "from tqdm import tqdm_notebook as timer"
   ]
  },
  {
   "cell_type": "code",
   "execution_count": 12,
   "metadata": {},
   "outputs": [],
   "source": [
    "df = pd.read_csv(\"DirectBrainRecording-CVLT_DATA_2021-07-29_1527.csv\")\n"
   ]
  },
  {
   "cell_type": "code",
   "execution_count": 13,
   "metadata": {},
   "outputs": [],
   "source": [
    "df['Subject'] = df['subject_number']\n",
    "df['CVLT'] = df['preop_1to5_raw']\n",
    "\n",
    "cvlt = df.drop(['subject_number', 'redcap_event_name', 'preop_1to5_raw'], axis = 1)\n"
   ]
  },
  {
   "cell_type": "code",
   "execution_count": 14,
   "metadata": {},
   "outputs": [],
   "source": [
    "cvlt = cvlt.dropna().reset_index()\n",
    "cvlt_subs = cvlt['Subject'].unique()\n"
   ]
  },
  {
   "cell_type": "code",
   "execution_count": 15,
   "metadata": {},
   "outputs": [
    {
     "name": "stdout",
     "output_type": "stream",
     "text": [
      "Total number of FR subjects:  281\n"
     ]
    }
   ],
   "source": [
    "# 1. If I want all FR1 and pyFR subjects\n",
    "df = get_data_index(\"r1\")\n",
    "FR1_subs=df[df['experiment']=='FR1']['subject'].unique() # all FR1 subjects\n",
    "exp = 'FR1' \n",
    "\n",
    "FR_subs=[]\n",
    "FR_subs = list(FR1_subs)\n",
    "print('Total number of FR subjects: ',len(FR_subs))"
   ]
  },
  {
   "cell_type": "code",
   "execution_count": 16,
   "metadata": {},
   "outputs": [],
   "source": [
    "fr_subs = []\n",
    "for sub in FR1_subs:\n",
    "    temp = int(sub[2:5])\n",
    "    fr_subs.append(temp)\n",
    "\n",
    "temporary = []\n",
    "for sub in fr_subs:\n",
    "    if(np.isin(sub, cvlt_subs)):\n",
    "        temporary.append(sub)\n",
    "    else:\n",
    "        temporary.append(np.nan)\n",
    "\n",
    "both = []\n",
    "for i, sub in enumerate(FR1_subs):\n",
    "    if(~np.isnan(temporary[i])):\n",
    "        both.append(sub)\n",
    "        "
   ]
  },
  {
   "cell_type": "code",
   "execution_count": 17,
   "metadata": {
    "tags": []
   },
   "outputs": [
    {
     "data": {
      "application/vnd.jupyter.widget-view+json": {
       "model_id": "6fb7b4dc899c423b9bafcc7ea2ff61b3",
       "version_major": 2,
       "version_minor": 0
      },
      "text/plain": [
       "HBox(children=(IntProgress(value=1, bar_style='info', max=1), HTML(value='')))"
      ]
     },
     "metadata": {},
     "output_type": "display_data"
    },
    {
     "name": "stdout",
     "output_type": "stream",
     "text": [
      "\n"
     ]
    }
   ],
   "source": [
    "evs = pd.DataFrame()\n",
    "for i, sub in timer(enumerate(both)):\n",
    "    subject = sub\n",
    "    exp = 'FR1'\n",
    "    df_select = df[(df['subject']==subject) & (df['experiment']==exp)]\n",
    "    sessions = list(df[(df['subject']==subject) & (df['experiment']==exp)]['session'])\n",
    "#     mont = int(df[(df['subject']==subject) & (df['experiment']==exp)].iloc()[0]['montage'])\n",
    "#     loc = int(df[(df['subject']==subject) & (df['experiment']==exp)].iloc()[0]['localization'])\n",
    "    for sess in sessions:\n",
    "        reader = CMLReader(subject, exp, sess)\n",
    "        evs = evs.append(reader.load('events'))\n",
    "        "
   ]
  },
  {
   "cell_type": "code",
   "execution_count": 18,
   "metadata": {},
   "outputs": [],
   "source": [
    "pd.set_option('display.max_columns', None)\n"
   ]
  },
  {
   "cell_type": "code",
   "execution_count": 19,
   "metadata": {},
   "outputs": [],
   "source": [
    "fr1 = evs.loc[evs['type'] == 'WORD']\n",
    "recall_list = fr1.groupby(['subject', 'session', 'list'])['recalled'].mean().reset_index()\n",
    "recall_sess = recall_list.groupby(['subject', 'session'])['recalled'].mean().reset_index()\n",
    "recall_sub = recall_sess.groupby('subject')['recalled'].mean().reset_index()\n",
    "sub_codes = recall_sub['subject'].unique()\n",
    "sub_num = []\n",
    "for sub in sub_codes:\n",
    "    sub_num.append(int(sub[2:5]))\n",
    "recall_sub['sub_num'] = pd.Series(sub_num)\n",
    "recall_subi = recall_sub.set_index('sub_num')\n"
   ]
  },
  {
   "cell_type": "code",
   "execution_count": 20,
   "metadata": {},
   "outputs": [],
   "source": [
    "cvlt_subi = cvlt.set_index('Subject')\n",
    "cvlt_subi['FR1'] = recall_subi['recalled']"
   ]
  },
  {
   "cell_type": "code",
   "execution_count": 21,
   "metadata": {},
   "outputs": [],
   "source": [
    "cvlt_subi = cvlt_subi.dropna()\n",
    "correlation = cvlt_subi.drop('index', axis = 1)\n",
    "pd.set_option('display.max_rows', None)\n",
    "\n",
    "correlation = correlation.query('CVLT != \"<35\"')\n",
    "correlation['CVLT'] = correlation['CVLT'].astype(float)/80\n",
    "\n"
   ]
  },
  {
   "cell_type": "code",
   "execution_count": 22,
   "metadata": {},
   "outputs": [],
   "source": [
    "correlation.to_csv('CVLT-FR1.csv')"
   ]
  },
  {
   "cell_type": "code",
   "execution_count": 23,
   "metadata": {},
   "outputs": [
    {
     "name": "stdout",
     "output_type": "stream",
     "text": [
      "Correlation is  0.3307\n",
      "n =  95\n"
     ]
    }
   ],
   "source": [
    "corr = pd.read_csv('CVLT-FR1.csv')\n",
    "\n",
    "r = corr['CVLT'].corr(corr['FR1']).round(4)\n",
    "print('Correlation is ', r)\n",
    "n = len(corr)\n",
    "print('n = ', n)"
   ]
  },
  {
   "cell_type": "code",
   "execution_count": 29,
   "metadata": {},
   "outputs": [
    {
     "name": "stdout",
     "output_type": "stream",
     "text": [
      "r(93) = 0.3307191198023989, p value = 0.001062605503333546\n"
     ]
    }
   ],
   "source": [
    "x = corr['FR1']\n",
    "y = corr['CVLT']\n",
    "xl = 'FR1 Recall Percentage'\n",
    "yl = 'CVLT Total Recalls T1-5'\n",
    "# z = np.polyfit(x, y, 1)\n",
    "# p = np.poly1d(z)\n",
    "# plt.figure(figsize=(8, 8))\n",
    "# xt = np.linspace(0,0.6,100)\n",
    "# yt = 0.440023*xt+(0.501264)\n",
    "r, p_val = scipy.stats.pearsonr(x, y)\n",
    "\n",
    "# plt.plot(xt, yt, \"r:\")\n",
    "# plt.scatter(x, y)\n",
    "# plt.xlabel(xl)\n",
    "# plt.ylabel(yl)\n",
    "# plt.title(\"Hospital Patient's CVLT Total Recalls as a Fuction of FR1 Recall Percentage\")\n",
    "# plt.savefig('CVLT-FR1.pdf')\n",
    "\n",
    "print('r({}) = {}, p value = {}'.format(n-2, r, p_val))"
   ]
  },
  {
   "cell_type": "code",
   "execution_count": 30,
   "metadata": {},
   "outputs": [],
   "source": [
    "np.save('cvlt_fr', [r, n])"
   ]
  },
  {
   "cell_type": "code",
   "execution_count": null,
   "metadata": {},
   "outputs": [],
   "source": []
  }
 ],
 "metadata": {
  "kernelspec": {
   "display_name": "environmentname",
   "language": "python",
   "name": "environmentname"
  },
  "language_info": {
   "codemirror_mode": {
    "name": "ipython",
    "version": 3
   },
   "file_extension": ".py",
   "mimetype": "text/x-python",
   "name": "python",
   "nbconvert_exporter": "python",
   "pygments_lexer": "ipython3",
   "version": "3.7.9"
  }
 },
 "nbformat": 4,
 "nbformat_minor": 4
}

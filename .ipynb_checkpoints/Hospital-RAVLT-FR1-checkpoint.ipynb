{
 "cells": [
  {
   "cell_type": "code",
   "execution_count": 1,
   "id": "02e53cb4-7d9d-4caa-a04a-12ca72e5e229",
   "metadata": {},
   "outputs": [],
   "source": [
    "import numpy as np\n",
    "import pandas as pd\n",
    "import os\n",
    "import glob\n",
    "import seaborn as sns\n",
    "import matplotlib.pyplot as plt\n",
    "from datetime import datetime\n",
    "import scipy\n",
    "import warnings\n",
    "from pandas.core.common import SettingWithCopyWarning\n",
    "warnings.simplefilter(action='ignore', category=SettingWithCopyWarning)\n",
    "warnings.simplefilter(action='ignore', category=FutureWarning)\n",
    "warnings.simplefilter(action='ignore', category=RuntimeWarning)\n",
    "warnings.simplefilter(action='ignore', category=DeprecationWarning)\n",
    "import pandas_to_pybeh as pb\n",
    "from cmlreaders import CMLReader, get_data_index\n",
    "from tqdm import tqdm_notebook as lol"
   ]
  },
  {
   "cell_type": "code",
   "execution_count": 4,
   "id": "601f5579-6954-40fd-90ec-89b7264ddba3",
   "metadata": {},
   "outputs": [],
   "source": [
    "df = pd.read_csv(\"DirectBrainRecording-RAVLT_DATA_LABELS_2021-08-26_1134.csv\")\n",
    "df['Subject'] = df['Subject Number']\n",
    "df['RAVLT total recall'] = df['Total Learning Lists 1-5']\n",
    "df['RAVLT short delay recall'] = df['Immediate Recall']\n",
    "df['RAVLT long delay recall'] = df['Delayed Recall']\n",
    "beh = df.drop(['Subject Number', 'Event Name', 'Immediate Recall', 'Total Learning Lists 1-5', 'Delayed Recall'], axis = 1)\n",
    "\n",
    "beh = beh.loc[beh['Subject']!= 578]\n",
    "avlt = beh.dropna(0, 'all')\n"
   ]
  },
  {
   "cell_type": "code",
   "execution_count": 5,
   "id": "d182e832-56ff-456e-bea0-53a06ca3ea54",
   "metadata": {},
   "outputs": [
    {
     "name": "stdout",
     "output_type": "stream",
     "text": [
      "Total number of RAVLT subjects:  97\n"
     ]
    },
    {
     "data": {
      "text/plain": [
       "array([ 13,  24,  45,  48,  57,  64,  79,  80,  96, 105, 120, 122, 128,\n",
       "       135, 137, 140, 144, 287, 319, 344, 354, 360, 370, 379, 385, 387,\n",
       "       402, 404, 405, 414, 423, 424, 435, 437, 441, 445, 453, 457, 463,\n",
       "       464, 470, 480, 484, 487, 489, 490, 496, 499, 501, 503, 504, 506,\n",
       "       507, 510, 514, 515, 516, 517, 518, 519, 520, 521, 522, 523, 524,\n",
       "       529, 531, 535, 537, 538, 539, 540, 541, 543, 544, 545, 546, 548,\n",
       "       549, 550, 551, 552, 553, 554, 558, 560, 561, 563, 565, 567, 568,\n",
       "       569, 570, 572, 573, 575, 577])"
      ]
     },
     "execution_count": 5,
     "metadata": {},
     "output_type": "execute_result"
    }
   ],
   "source": [
    "# avlt = beh.dropna().reset_index()\n",
    "\n",
    "avlt_subs = avlt['Subject'].unique()\n",
    "print('Total number of RAVLT subjects: ',len(avlt_subs))\n",
    "avlt_subs"
   ]
  },
  {
   "cell_type": "code",
   "execution_count": 6,
   "id": "7956ba32-19e5-448a-8366-8e1bffeb6b5f",
   "metadata": {},
   "outputs": [
    {
     "name": "stdout",
     "output_type": "stream",
     "text": [
      "Total number of FR subjects:  281\n"
     ]
    }
   ],
   "source": [
    "# 1. If I want all FR1 and pyFR subjects\n",
    "df = get_data_index(\"r1\")\n",
    "FR1_subs=df[df['experiment']=='FR1']['subject'].unique() # all FR1 subjects\n",
    "exp = 'FR1' \n",
    "\n",
    "FR_subs=[]\n",
    "FR_subs = list(FR1_subs)\n",
    "print('Total number of FR subjects: ',len(FR_subs))\n",
    "# catfr_subs = np.load('catfrsubs.npy', allow_pickle=True)\n",
    "# all_subs = pd.concat([pd.Series(FR1_subs), pd.Series(catfr_subs)])\n",
    "# all_fr_subs = all_subs.apply(lambda x: x[2:5]).astype(int)\n",
    "# pd.concat([all_vlt_subs, all_fr_subs]).nunique()\n",
    "# # all_subs.nunique()"
   ]
  },
  {
   "cell_type": "code",
   "execution_count": 7,
   "id": "97f3817b-c337-45ab-aea8-c1b8015b4606",
   "metadata": {},
   "outputs": [
    {
     "name": "stdout",
     "output_type": "stream",
     "text": [
      "Total number of subjects with both tests:  27\n",
      "['R1045E', 'R1048E', 'R1057E', 'R1080E', 'R1096E', 'R1105E', 'R1120E', 'R1122E', 'R1128E', 'R1135E', 'R1137E', 'R1354E', 'R1379E', 'R1385E', 'R1387E', 'R1402E', 'R1404E', 'R1405E', 'R1414E', 'R1423E', 'R1441T', 'R1457T', 'R1463E', 'R1565T', 'R1569T', 'R1572T', 'R1573T']\n"
     ]
    }
   ],
   "source": [
    "fr_subs = []\n",
    "for sub in FR1_subs:\n",
    "    temp = int(sub[2:5])\n",
    "    fr_subs.append(temp)\n",
    "\n",
    "temporary = []\n",
    "for sub in fr_subs:\n",
    "    if(np.isin(sub, avlt_subs)):\n",
    "        temporary.append(sub)\n",
    "    else:\n",
    "        temporary.append(np.nan)\n",
    "\n",
    "both = []\n",
    "for i, sub in enumerate(FR1_subs):\n",
    "    if(~np.isnan(temporary[i])):\n",
    "        both.append(sub)\n",
    "print('Total number of subjects with both tests: ', len(both))\n",
    "print(both)"
   ]
  },
  {
   "cell_type": "code",
   "execution_count": 8,
   "id": "43baca28-4ac3-4515-8e35-6c97d792de80",
   "metadata": {},
   "outputs": [
    {
     "data": {
      "application/vnd.jupyter.widget-view+json": {
       "model_id": "95222a3cbb244390b7e79680b5e419ef",
       "version_major": 2,
       "version_minor": 0
      },
      "text/plain": [
       "HBox(children=(IntProgress(value=0, max=27), HTML(value='')))"
      ]
     },
     "metadata": {},
     "output_type": "display_data"
    },
    {
     "name": "stdout",
     "output_type": "stream",
     "text": [
      "\n"
     ]
    }
   ],
   "source": [
    "evs = []\n",
    "from tqdm.notebook import tqdm\n",
    "for i, sub in enumerate(tqdm(both)):\n",
    "\n",
    "#     print(sub, str(i/len(both)*100) + \"% Done\")\n",
    "    exp = 'FR1'\n",
    "    df_select = df[(df['subject']==sub) & (df['experiment']==exp)]\n",
    "    sessions = list(df[(df['subject']==sub) & (df['experiment']==exp)]['session'])\n",
    "    for sess in sessions:\n",
    "        reader = CMLReader(sub, exp, sess)\n",
    "        evs.append(reader.load('events'))\n",
    "evs = pd.concat(evs)"
   ]
  },
  {
   "cell_type": "code",
   "execution_count": 9,
   "id": "3535f75d-9151-4d07-8918-5e63a4f29786",
   "metadata": {},
   "outputs": [],
   "source": [
    "fr1 = evs.loc[evs['type'] == 'WORD']\n",
    "recall_list = fr1.groupby(['subject', 'session', 'list'])['recalled'].mean().reset_index()\n",
    "recall_sess = recall_list.groupby(['subject', 'session'])['recalled'].mean().reset_index()\n",
    "recall_sub = recall_sess.groupby('subject')['recalled'].mean().reset_index()\n",
    "sub_codes = recall_sub['subject'].unique()\n",
    "recall_sub = recall_sub.set_index('subject')\n",
    "recall_sub = recall_sub.reset_index()\n",
    "sub_num = []\n",
    "\n",
    "for sub in sub_codes:\n",
    "    sub_num.append(int(sub[2:5]))\n",
    "recall_sub['sub_num'] = pd.Series(sub_num)\n",
    "\n",
    "recall_subi = recall_sub.set_index('sub_num')"
   ]
  },
  {
   "cell_type": "code",
   "execution_count": 10,
   "id": "436b1bff-e1b0-48a7-8433-f093197f0135",
   "metadata": {},
   "outputs": [],
   "source": [
    "avlt_subi = avlt.set_index('Subject')\n",
    "avlt_subi['FR1 recall'] = recall_subi['recalled']"
   ]
  },
  {
   "cell_type": "code",
   "execution_count": 11,
   "id": "6b1ed0fb-8dfd-4a60-b341-d895f7dde31b",
   "metadata": {},
   "outputs": [],
   "source": [
    "corr = avlt_subi.dropna(0, subset=['FR1 recall'])\n",
    "corr['RAVLT total recall'] = corr['RAVLT total recall'].astype(float)/75\n",
    "corr.to_csv('AVLT-FR1.csv')"
   ]
  },
  {
   "cell_type": "code",
   "execution_count": 12,
   "id": "9626f5c1-647d-43d7-8b04-bf34820e88e8",
   "metadata": {},
   "outputs": [
    {
     "data": {
      "text/plain": [
       "0.6232098765432099"
      ]
     },
     "execution_count": 12,
     "metadata": {},
     "output_type": "execute_result"
    }
   ],
   "source": [
    "corr.columns\n",
    "corr['RAVLT total recall'].mean()"
   ]
  },
  {
   "cell_type": "code",
   "execution_count": 13,
   "id": "203fe214-95ef-4017-8a3b-3355e28c7ee4",
   "metadata": {},
   "outputs": [
    {
     "name": "stdout",
     "output_type": "stream",
     "text": [
      "r(25) = 0.6185302363767886, p = 0.000584050275602049\n"
     ]
    },
    {
     "data": {
      "image/png": "[encoded data removed]",
      "text/plain": [
       "<Figure size 504x504 with 1 Axes>"
      ]
     },
     "metadata": {
      "needs_background": "light"
     },
     "output_type": "display_data"
    }
   ],
   "source": [
    "from plotting import *\n",
    "import scipy\n",
    "error_bars ={'elinewidth':2, 'capsize':3, 'capthick':2}\n",
    "set_axes(xlim = [0,1], ylim = [0,1], xticks=np.arange(0,1.1,.2), yticks=np.arange(0,1.1,.2), fontsize = 30)\n",
    "\n",
    "\n",
    "datadir = '/home1/radrogue/Hospital_CVLT/Graphs/'\n",
    "x = corr['FR1 recall']\n",
    "y = corr['RAVLT total recall']\n",
    "n = corr.shape[0]\n",
    "max_x = round(x.max(), 10)\n",
    "min_x = round(x.min(), 1)\n",
    "max_y = round(y.max(), 2)\n",
    "min_y = round(y.min(), 1)\n",
    "xl = x.name\n",
    "yl = y.name\n",
    "r, p_val = scipy.stats.pearsonr(x, y)\n",
    "r, p = scipy.stats.pearsonr(x, y)\n",
    "print('r({}) = {}, p = {}'.format(n-2,r,p))\n",
    "g = sns.regplot(data = corr, x = x, y = y, color = 'black', ci = 95, line_kws={'linewidth':4}, scatter_kws={'s':75})\n",
    "\n",
    "_ = plt.xlabel(xl)\n",
    "_ = plt.ylabel(yl)\n",
    "\n",
    "plt.savefig(datadir + xl + '_' + yl + '.pdf', bbox_inches='tight')\n",
    "np.save('ravlt_fr1.npy', [r, n])"
   ]
  },
  {
   "cell_type": "code",
   "execution_count": null,
   "id": "5a676632-3654-4df0-a391-0d4c5a148254",
   "metadata": {},
   "outputs": [],
   "source": []
  }
 ],
 "metadata": {
  "kernelspec": {
   "display_name": "bub",
   "language": "python",
   "name": "bub"
  },
  "language_info": {
   "codemirror_mode": {
    "name": "ipython",
    "version": 3
   },
   "file_extension": ".py",
   "mimetype": "text/x-python",
   "name": "python",
   "nbconvert_exporter": "python",
   "pygments_lexer": "ipython3",
   "version": "3.7.3"
  }
 },
 "nbformat": 4,
 "nbformat_minor": 5
}

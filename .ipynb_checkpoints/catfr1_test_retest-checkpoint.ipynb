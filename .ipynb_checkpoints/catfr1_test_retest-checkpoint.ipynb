{
 "cells": [
  {
   "cell_type": "code",
   "execution_count": 1,
   "id": "bba75f2f-811c-4fde-bc5e-f22582511682",
   "metadata": {},
   "outputs": [],
   "source": [
    "import numpy as np\n",
    "import pandas as pd\n",
    "import os\n",
    "import glob\n",
    "import seaborn as sns\n",
    "import matplotlib.pyplot as plt\n",
    "import datetime\n",
    "from datetime import date as f_date\n",
    "import scipy\n",
    "import warnings\n",
    "from pandas.core.common import SettingWithCopyWarning\n",
    "warnings.simplefilter(action='ignore', category=SettingWithCopyWarning)\n",
    "warnings.simplefilter(action='ignore', category=FutureWarning)\n",
    "warnings.simplefilter(action='ignore', category=RuntimeWarning)\n",
    "warnings.simplefilter(action='ignore', category=DeprecationWarning)\n",
    "import pandas_to_pybeh as pb\n",
    "from cmlreaders import CMLReader, get_data_index\n",
    "from plotting import *"
   ]
  },
  {
   "cell_type": "code",
   "execution_count": 2,
   "id": "e31efcb3-9cbd-4078-a0c3-1044da52a3bf",
   "metadata": {},
   "outputs": [
    {
     "name": "stdout",
     "output_type": "stream",
     "text": [
      "Total number of FR subjects:  243\n"
     ]
    }
   ],
   "source": [
    "# 1. If I want all FR1 and pyFR subjects\n",
    "df = get_data_index(\"r1\")\n",
    "exp = 'catFR1' \n",
    "FR1_subs=df[df['experiment']==exp]['subject'].unique() # all FR1 subjects\n",
    "\n",
    "\n",
    "FR_subs=[]\n",
    "FR_subs = list(FR1_subs)\n",
    "print('Total number of FR subjects: ',len(FR_subs))"
   ]
  },
  {
   "cell_type": "code",
   "execution_count": 7,
   "id": "d82b9862-e8b1-4a12-a58c-ba2af07a69de",
   "metadata": {},
   "outputs": [
    {
     "data": {
      "application/vnd.jupyter.widget-view+json": {
       "model_id": "f2454ed4f1d341d89a7d1ec8cdc329cc",
       "version_major": 2,
       "version_minor": 0
      },
      "text/plain": [
       "HBox(children=(IntProgress(value=0, max=243), HTML(value='')))"
      ]
     },
     "metadata": {},
     "output_type": "display_data"
    },
    {
     "name": "stdout",
     "output_type": "stream",
     "text": [
      "R1221P failed\n",
      "\n"
     ]
    }
   ],
   "source": [
    "evs = []\n",
    "from tqdm.notebook import tqdm\n",
    "for i, sub in enumerate(tqdm(FR_subs)):\n",
    "#     print(sub, str(i/len(both)*100) + \"% Done\")\n",
    "    try:\n",
    "        df_select = df[(df['subject']==sub) & (df['experiment']==exp)]\n",
    "        sessions = list(df[(df['subject']==sub) & (df['experiment']==exp)]['session'])\n",
    "        for sess in sessions:\n",
    "            reader = CMLReader(sub, exp, sess)\n",
    "            evs.append(reader.load('events'))\n",
    "    except:\n",
    "        print(\"{} failed\".format(sub))\n",
    "evs = pd.concat(evs)\n",
    "word_evs = evs[evs.type=='WORD']\n",
    "word_evs = word_evs[word_evs != -1]"
   ]
  },
  {
   "cell_type": "code",
   "execution_count": 8,
   "id": "0d16851c-36c7-4589-9203-7278902b8c2e",
   "metadata": {},
   "outputs": [],
   "source": [
    "def get_date(ms):\n",
    "    date = f_date.fromtimestamp(ms/1000.0)\n",
    "    return date"
   ]
  },
  {
   "cell_type": "code",
   "execution_count": 10,
   "id": "c2c23305-3241-4527-8a1c-f1d8ccb43a78",
   "metadata": {},
   "outputs": [
    {
     "data": {
      "application/vnd.jupyter.widget-view+json": {
       "model_id": "f87cd175d1e8479192ac0d097854bc69",
       "version_major": 2,
       "version_minor": 0
      },
      "text/plain": [
       "HBox(children=(IntProgress(value=1, bar_style='info', max=1), HTML(value='')))"
      ]
     },
     "metadata": {},
     "output_type": "display_data"
    },
    {
     "name": "stdout",
     "output_type": "stream",
     "text": [
      "\n",
      "\n"
     ]
    }
   ],
   "source": [
    "check_lists = word_evs.groupby(['subject', 'session']).list.nunique()\n",
    "check_lists = check_lists[check_lists==12]\n",
    "check_sess = check_lists.groupby('subject').count()\n",
    "check_sess = check_sess[check_sess>1]\n",
    "good_subs = check_sess.index\n",
    "check_lists = check_lists.reset_index()\n",
    "check_lists = check_lists[check_lists.subject.isin(good_subs)]\n",
    "evs = []\n",
    "for i, row in tqdm(check_lists.iterrows()):\n",
    "    sub = row.subject\n",
    "    sess = row.session\n",
    "    \n",
    "    exp = 'catFR1'\n",
    "    reader = CMLReader(sub, exp, sess)\n",
    "    evs.append(reader.load('events'))\n",
    "evs = pd.concat(evs, ignore_index=True)"
   ]
  },
  {
   "cell_type": "code",
   "execution_count": 12,
   "id": "21e93716-1f5e-43c5-bfae-539bdc22b190",
   "metadata": {},
   "outputs": [],
   "source": [
    "evs['datetime'] = evs.mstime.apply(get_date)\n",
    "shift = evs.groupby(['subject', 'session']).datetime.agg('min').diff().reset_index('session')\n",
    "first_sess = evs.groupby(['subject']).session.agg('min')\n",
    "# shift[shift == first_sess]\n",
    "shift['min_sess'] = first_sess\n",
    "shift.loc[shift['session'] == shift['min_sess'], 'datetime'] = ''\n",
    "shift.drop('min_sess',1,inplace=True)\n",
    "bad_shift = shift[shift.datetime == pd.Timedelta(\"0 days\")]\n",
    "for i, row in bad_shift.reset_index().iterrows():\n",
    "    bad_sub = row.subject\n",
    "    bad_sess = row.session\n",
    "    bad_evs = evs[(evs.subject==bad_sub) & (evs.session==bad_sess)].index\n",
    "    evs.drop(bad_evs,inplace=True)\n",
    "    # evs[(evs.subject.isinb(bad_shift.index)) & (evs.session.isin(bad_shift.session))]"
   ]
  },
  {
   "cell_type": "code",
   "execution_count": 13,
   "id": "f14e6465-4210-47b0-8308-cc8094e19881",
   "metadata": {},
   "outputs": [],
   "source": [
    "evs['even'] = evs['session']%2 == 0\n",
    "word_evs = evs[evs.type == 'WORD']\n",
    "word_evs= word_evs[~word_evs.list.isin([0, -999, -1])]\n"
   ]
  },
  {
   "cell_type": "code",
   "execution_count": 14,
   "id": "00a4a631-f254-4a14-9df0-2f083202480c",
   "metadata": {},
   "outputs": [],
   "source": [
    "test_retest = word_evs.groupby(['subject', 'even']).recalled.mean().reset_index()\n",
    "even_retest = test_retest[test_retest.even==True]\n",
    "odd_retest = test_retest[test_retest.even==False]\n",
    "odd_retest.rename(columns=dict(recalled='odd'), inplace=True)\n",
    "odd_retest.set_index('subject', inplace=True)\n",
    "even_retest.set_index('subject', inplace=True)\n",
    "even_retest.drop('even', 1, inplace=True)\n",
    "even_retest.rename(columns=dict(recalled='even'), inplace=True)\n",
    "test_retest = even_retest.copy()\n",
    "test_retest['odd'] = odd_retest.odd\n",
    "test_retest.dropna(inplace=True)"
   ]
  },
  {
   "cell_type": "code",
   "execution_count": 15,
   "id": "97b7101c-cba1-47db-a196-ab539eeb1553",
   "metadata": {},
   "outputs": [
    {
     "name": "stdout",
     "output_type": "stream",
     "text": [
      "r = 0.8591183557712778, p = 1.4382943166622029e-15, n = 50\n"
     ]
    },
    {
     "data": {
      "image/png": "[encoded data removed]",
      "text/plain": [
       "<Figure size 504x504 with 1 Axes>"
      ]
     },
     "metadata": {
      "needs_background": "light"
     },
     "output_type": "display_data"
    }
   ],
   "source": [
    "set_axes()\n",
    "sns.regplot(data = test_retest, x = 'even', y = 'odd', color = 'black')\n",
    "r, p = scipy.stats.pearsonr(test_retest['even'], test_retest['odd'])\n",
    "n = test_retest.shape[0]\n",
    "print('r = {}, p = {}, n = {}'.format(r,p,n))\n",
    "np.save('catfr1_test_retest', [r,p,n])"
   ]
  },
  {
   "cell_type": "code",
   "execution_count": null,
   "id": "a09853e4-7b98-4379-9f27-a97b6a29ff7f",
   "metadata": {},
   "outputs": [],
   "source": []
  }
 ],
 "metadata": {
  "kernelspec": {
   "display_name": "bub",
   "language": "python",
   "name": "bub"
  },
  "language_info": {
   "codemirror_mode": {
    "name": "ipython",
    "version": 3
   },
   "file_extension": ".py",
   "mimetype": "text/x-python",
   "name": "python",
   "nbconvert_exporter": "python",
   "pygments_lexer": "ipython3",
   "version": "3.7.3"
  }
 },
 "nbformat": 4,
 "nbformat_minor": 5
}

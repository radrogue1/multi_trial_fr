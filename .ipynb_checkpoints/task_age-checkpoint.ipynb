{
 "cells": [
  {
   "cell_type": "code",
   "execution_count": 2,
   "id": "bf2a37fe-fe2e-4eb7-8c9c-ce6c52be619e",
   "metadata": {},
   "outputs": [],
   "source": [
    "import numpy as np\n",
    "import pandas as pd\n",
    "import os\n",
    "import glob\n",
    "import seaborn as sns\n",
    "import matplotlib.pyplot as plt\n",
    "from datetime import datetime\n",
    "import scipy\n",
    "import warnings\n",
    "from pandas.core.common import SettingWithCopyWarning\n",
    "warnings.simplefilter(action='ignore', category=SettingWithCopyWarning)\n",
    "warnings.simplefilter(action='ignore', category=FutureWarning)\n",
    "warnings.simplefilter(action='ignore', category=RuntimeWarning)\n",
    "warnings.simplefilter(action='ignore', category=DeprecationWarning)\n",
    "import pandas_to_pybeh as pb\n",
    "from cmlreaders import CMLReader, get_data_index\n",
    "from plotting import *\n",
    "from importlib import reload"
   ]
  },
  {
   "cell_type": "code",
   "execution_count": 3,
   "id": "a1d6a835-c7ca-48f2-8e8a-c66c4e714ded",
   "metadata": {},
   "outputs": [],
   "source": [
    "rav_r, rav_n = np.load('RAVLTvAge.npy')\n",
    "cvl_r, cvl_n = np.load('CVLTvAge.npy')\n",
    "fr1_r, fr1_n = np.load('FR1vAge.npy')\n",
    "cat_r, cat_n = np.load('CATvAge.npy')"
   ]
  },
  {
   "cell_type": "code",
   "execution_count": 4,
   "id": "a7d50599-6785-453f-86ef-4bed0081c747",
   "metadata": {},
   "outputs": [
    {
     "name": "stdout",
     "output_type": "stream",
     "text": [
      "[269. 198.  64. 160.]\n"
     ]
    }
   ],
   "source": [
    "rs = np.array([fr1_r, cat_r, rav_r, cvl_r])\n",
    "ns = np.array([fr1_n, cat_n, rav_n, cvl_n])\n",
    "rprime=np.arctanh(rs)\n",
    "sprime=1/np.sqrt(ns - 3)\n",
    "u = rprime+1.96*sprime\n",
    "l = rprime-1.96*sprime\n",
    "u = np.tanh(u)\n",
    "l = np.tanh(l)\n",
    "# rs = np.array([fr1_r, cat_r])\n",
    "# ns = np.array([fr1_n, cat_n])\n",
    "sterr = np.sqrt(1-rs**2)/np.sqrt(ns-2)\n",
    "print(ns)"
   ]
  },
  {
   "cell_type": "code",
   "execution_count": 5,
   "id": "3b4ff61f-ece5-4cb3-a9a6-385dc3cdb3f5",
   "metadata": {},
   "outputs": [],
   "source": [
    "comparisons = ['FR', 'CatFR', 'RAVLT', 'CVLT']\n",
    "# comparisons = ['FR1', 'catFR1']\n",
    "palette = ['C0','C0','C0','C0']"
   ]
  },
  {
   "cell_type": "code",
   "execution_count": 6,
   "id": "4c2d4d27-a551-4f93-90ce-b9f2b1803905",
   "metadata": {},
   "outputs": [
    {
     "data": {
      "image/png": "[encoded data removed]",
      "text/plain": [
       "<Figure size 504x504 with 1 Axes>"
      ]
     },
     "metadata": {
      "needs_background": "light"
     },
     "output_type": "display_data"
    }
   ],
   "source": [
    "set_axes(fontsize=30)#, yticks=np.arange(-0.6,0.1, .1))\n",
    "sns.barplot(y = rs, x = comparisons, palette = palette)\n",
    "plt.xticks(fontsize=25)\n",
    "plt.ylabel('Pearson r')\n",
    "plt.errorbar(x = comparisons, y = rs, yerr=[rs - l, u-rs], linestyle='', color = 'black', capsize= 7, capthick=3,elinewidth=3)\n",
    "plt.savefig('figures/age_corr.pdf', bbox_inches = 'tight')"
   ]
  },
  {
   "cell_type": "code",
   "execution_count": 27,
   "id": "9e84b5d3-52ee-486b-b2c1-51a2e593d6c0",
   "metadata": {},
   "outputs": [],
   "source": [
    "import sig_test_correlations as sig"
   ]
  },
  {
   "cell_type": "code",
   "execution_count": 28,
   "id": "aa8ad9b3-bfc0-4635-873b-e929f1f02721",
   "metadata": {},
   "outputs": [
    {
     "name": "stdout",
     "output_type": "stream",
     "text": [
      "-0.2443153138907158\n",
      "0.4857621093302127\n",
      "95%\n"
     ]
    },
    {
     "data": {
      "text/plain": [
       "((-0.4408868907174319, -0.04774373706399973), 'CatFR', 'CVLT')"
      ]
     },
     "execution_count": 28,
     "metadata": {},
     "output_type": "execute_result"
    }
   ],
   "source": [
    "reload(sig)\n",
    "first = 1\n",
    "second = 3\n",
    "print(rs[first] - rs[second])\n",
    "sig.ind_btwn(rs[first], rs[second], ns[first], ns[second]), comparisons[first], comparisons[second]"
   ]
  },
  {
   "cell_type": "code",
   "execution_count": 18,
   "id": "10e0025b-a7ad-4062-a4fd-3a4eac30b941",
   "metadata": {},
   "outputs": [
    {
     "name": "stdout",
     "output_type": "stream",
     "text": [
      "[-0.27101526 -0.34329045 -0.12948513 -0.09897514]\n"
     ]
    }
   ],
   "source": [
    "print(rs)"
   ]
  },
  {
   "cell_type": "code",
   "execution_count": 19,
   "id": "d89a8612-5197-4434-9139-9df6dfdc08f8",
   "metadata": {},
   "outputs": [
    {
     "data": {
      "text/plain": [
       "array([-0.27101526, -0.34329045, -0.12948513, -0.09897514])"
      ]
     },
     "execution_count": 19,
     "metadata": {},
     "output_type": "execute_result"
    }
   ],
   "source": []
  },
  {
   "cell_type": "code",
   "execution_count": null,
   "id": "d260a6dd-d889-4456-bec4-226da3d4004c",
   "metadata": {},
   "outputs": [],
   "source": []
  }
 ],
 "metadata": {
  "kernelspec": {
   "display_name": "bub",
   "language": "python",
   "name": "bub"
  },
  "language_info": {
   "codemirror_mode": {
    "name": "ipython",
    "version": 3
   },
   "file_extension": ".py",
   "mimetype": "text/x-python",
   "name": "python",
   "nbconvert_exporter": "python",
   "pygments_lexer": "ipython3",
   "version": "3.7.3"
  }
 },
 "nbformat": 4,
 "nbformat_minor": 5
}

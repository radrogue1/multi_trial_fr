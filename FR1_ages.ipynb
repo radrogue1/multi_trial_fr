{
 "cells": [
  {
   "cell_type": "code",
   "execution_count": 21,
   "metadata": {},
   "outputs": [],
   "source": [
    "import numpy as np\n",
    "import pandas as pd\n",
    "import os\n",
    "import glob\n",
    "import seaborn as sns\n",
    "import matplotlib.pyplot as plt\n",
    "from datetime import datetime\n",
    "import scipy\n",
    "import warnings\n",
    "from pandas.core.common import SettingWithCopyWarning\n",
    "warnings.simplefilter(action='ignore', category=SettingWithCopyWarning)\n",
    "warnings.simplefilter(action='ignore', category=FutureWarning)\n",
    "warnings.simplefilter(action='ignore', category=RuntimeWarning)\n",
    "warnings.simplefilter(action='ignore', category=DeprecationWarning)\n",
    "import pandas_to_pybeh as pb\n",
    "from cmlreaders import CMLReader, get_data_index\n",
    "from plotting import *"
   ]
  },
  {
   "cell_type": "code",
   "execution_count": 3,
   "metadata": {},
   "outputs": [
    {
     "name": "stdout",
     "output_type": "stream",
     "text": [
      "Total number of FR subjects:  281\n"
     ]
    },
    {
     "data": {
      "text/plain": [
       "368"
      ]
     },
     "execution_count": 3,
     "metadata": {},
     "output_type": "execute_result"
    }
   ],
   "source": [
    "# 1. If I want all FR1 and pyFR subjects\n",
    "df = get_data_index(\"r1\")\n",
    "FR1_subs=df[df['experiment']=='FR1']['subject'].unique() # all FR1 subjects\n",
    "exp = 'FR1' \n",
    "\n",
    "FR_subs=[]\n",
    "FR_subs = list(FR1_subs)\n",
    "print('Total number of FR subjects: ',len(FR_subs))\n",
    "catfr_subs = np.load('catfrsubs.npy', allow_pickle=True)\n",
    "all_subs = pd.concat([pd.Series(FR1_subs), pd.Series(catfr_subs)])\n",
    "all_fr_subs = all_subs.apply(lambda x: x[2:5]).astype(int)\n",
    "pd.concat([all_fr_subs]).nunique()\n",
    "# all_subs.nunique()"
   ]
  },
  {
   "cell_type": "code",
   "execution_count": null,
   "metadata": {},
   "outputs": [
    {
     "data": {
      "application/vnd.jupyter.widget-view+json": {
       "model_id": "c247840b219f46718955e8773e3c0186",
       "version_major": 2,
       "version_minor": 0
      },
      "text/plain": [
       "HBox(children=(IntProgress(value=0, max=281), HTML(value='')))"
      ]
     },
     "metadata": {},
     "output_type": "display_data"
    },
    {
     "name": "stdout",
     "output_type": "stream",
     "text": [
      "\n"
     ]
    }
   ],
   "source": [
    "evs = []\n",
    "from tqdm.notebook import tqdm\n",
    "for i, sub in enumerate(tqdm(FR_subs)):\n",
    "\n",
    "#     print(sub, str(i/len(both)*100) + \"% Done\")\n",
    "    exp = 'FR1'\n",
    "    df_select = df[(df['subject']==sub) & (df['experiment']==exp)]\n",
    "    sessions = list(df[(df['subject']==sub) & (df['experiment']==exp)]['session'])\n",
    "    for sess in sessions:\n",
    "        reader = CMLReader(sub, exp, sess)\n",
    "        evs.append(reader.load('events'))\n",
    "evs = pd.concat(evs)"
   ]
  },
  {
   "cell_type": "code",
   "execution_count": 13,
   "metadata": {
    "tags": []
   },
   "outputs": [],
   "source": [
    "word_evs = evs[evs.type =='WORD']\n",
    "zscore = (word_evs.groupby(['subject', 'session', 'list']).recalled.mean().groupby(['subject', 'session']).mean().groupby('subject').mean()).reset_index()\n",
    "zscore['subject'] = zscore.subject.apply(lambda x: int(x[2:5]))\n",
    "zscore.set_index('subject',inplace=True)\n",
    "ages = pd.read_csv('FR1_subject_ages.csv')\n",
    "ages = ages.dropna(subset=['Age at Implant (calculated)']).set_index('Subject Number')\n",
    "zscore['age']=ages['Age at Implant (calculated)']\n",
    "mturk = np.load('final_fr1_stats.npy')\n",
    "mturk_std = mturk.std()\n",
    "mturk_mean = mturk.mean()\n",
    "zscore['zscore'] = (zscore['recalled'] - mturk_mean)/mturk_std"
   ]
  },
  {
   "cell_type": "code",
   "execution_count": 32,
   "metadata": {
    "tags": []
   },
   "outputs": [],
   "source": [
    "age_test = zscore.dropna()\n",
    "r, p = scipy.stats.pearsonr(age_test.recalled, age_test.age)\n",
    "n = age_test.shape[0]\n",
    "np.save('FR1vAge.npy', [r, n])"
   ]
  },
  {
   "cell_type": "code",
   "execution_count": 33,
   "metadata": {},
   "outputs": [
    {
     "name": "stdout",
     "output_type": "stream",
     "text": [
      "281 242.0 111.0 164.0\n"
     ]
    },
    {
     "data": {
      "image/png": "[encoded data removed]",
      "text/plain": [
       "<Figure size 504x504 with 1 Axes>"
      ]
     },
     "metadata": {
      "needs_background": "light"
     },
     "output_type": "display_data"
    }
   ],
   "source": [
    "fr1_mean = zscore['zscore'].mean()\n",
    "fr1_std = zscore.zscore.std()\n",
    "fr1_n = zscore.shape[0]\n",
    "fr1_sem = fr1_std/np.sqrt(fr1_n)\n",
    "\n",
    "rav_turk= np.load('ravmturkhospitalzscore.npy')\n",
    "turk_mean = rav_turk[0]\n",
    "turk_std = rav_turk[1]\n",
    "turk_n = rav_turk[2]\n",
    "\n",
    "turk_sem = turk_std/np.sqrt(turk_n)\n",
    "cat_turk = np.load('cathospitalzscore.npy')\n",
    "\n",
    "cat_mean = cat_turk[0]\n",
    "cat_std = cat_turk[1]\n",
    "cat_n = cat_turk[2]\n",
    "cat_sem = cat_std/np.sqrt(cat_n)\n",
    "\n",
    "# rav_mean_std = np.load('ravhospitalzscore.npy')\n",
    "# rav_mean = rav_mean_std[0]\n",
    "# rav_std = rav_mean_std[1]\n",
    "# rav_n = rav_mean_std[2]\n",
    "# rav_sem = rav_std/np.sqrt(rav_n)\n",
    "\n",
    "cvl = np.load('cvlhospitalzscore.npy')\n",
    "cvl_mean = cvl[0]\n",
    "cvl_std = cvl[1]\n",
    "cvl_n = cvl[2]\n",
    "cvl_sem = cvl_std/np.sqrt(cvl_n)\n",
    "print(fr1_n, cat_n, turk_n, cvl_n)\n",
    "set_axes(fontsize = 25)\n",
    "sns.barplot(x = ['FR', 'CatFR', 'RAVLT', 'CVLT'],y=[fr1_mean, cat_mean, turk_mean, cvl_mean], palette=['C0', 'C0'])\n",
    "plt.errorbar(x=['FR', 'CatFR', 'RAVLT', 'CVLT'], y = [fr1_mean, cat_mean ,turk_mean, cvl_mean], yerr = [fr1_sem, cat_sem, turk_sem, cvl_sem], linestyle='', color = 'black', capsize= 7, capthick=3, elinewidth=3)\n",
    "plt.ylabel('Mean Z-Score (Healthy Mean)', fontsize=20)\n",
    "plt.savefig('hosp_vs_healthy.pdf', bbox_inches='tight')\n"
   ]
  },
  {
   "cell_type": "code",
   "execution_count": null,
   "metadata": {},
   "outputs": [],
   "source": []
  }
 ],
 "metadata": {
  "kernelspec": {
   "display_name": "bub",
   "language": "python",
   "name": "bub"
  },
  "language_info": {
   "codemirror_mode": {
    "name": "ipython",
    "version": 3
   },
   "file_extension": ".py",
   "mimetype": "text/x-python",
   "name": "python",
   "nbconvert_exporter": "python",
   "pygments_lexer": "ipython3",
   "version": "3.7.3"
  }
 },
 "nbformat": 4,
 "nbformat_minor": 4
}

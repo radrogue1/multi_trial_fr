{
 "cells": [
  {
   "cell_type": "code",
   "execution_count": 1,
   "metadata": {},
   "outputs": [],
   "source": [
    "import numpy as np\n",
    "import pandas as pd\n",
    "import os\n",
    "import glob\n",
    "import seaborn as sns\n",
    "import matplotlib.pyplot as plt\n",
    "from datetime import datetime\n",
    "import scipy\n",
    "import warnings\n",
    "from pandas.core.common import SettingWithCopyWarning\n",
    "warnings.simplefilter(action='ignore', category=SettingWithCopyWarning)\n",
    "warnings.simplefilter(action='ignore', category=FutureWarning)\n",
    "warnings.simplefilter(action='ignore', category=RuntimeWarning)\n",
    "warnings.simplefilter(action='ignore', category=DeprecationWarning)\n",
    "import pandas_to_pybeh as pb\n",
    "from cmlreaders import CMLReader, get_data_index\n",
    "from plotting import *"
   ]
  },
  {
   "cell_type": "code",
   "execution_count": 2,
   "metadata": {},
   "outputs": [
    {
     "name": "stdout",
     "output_type": "stream",
     "text": [
      "Total number of FR subjects:  281\n"
     ]
    },
    {
     "data": {
      "text/plain": [
       "368"
      ]
     },
     "execution_count": 2,
     "metadata": {},
     "output_type": "execute_result"
    }
   ],
   "source": [
    "# 1. If I want all FR1 and pyFR subjects\n",
    "df = get_data_index(\"r1\")\n",
    "FR1_subs=df[df['experiment']=='FR1']['subject'].unique() # all FR1 subjects\n",
    "exp = 'FR1' \n",
    "\n",
    "FR_subs=[]\n",
    "FR_subs = list(FR1_subs)\n",
    "print('Total number of FR subjects: ',len(FR_subs))\n",
    "catfr_subs = np.load('catfrsubs.npy', allow_pickle=True)\n",
    "all_subs = pd.concat([pd.Series(FR1_subs), pd.Series(catfr_subs)])\n",
    "all_fr_subs = all_subs.apply(lambda x: x[2:5]).astype(int)\n",
    "pd.concat([all_fr_subs]).nunique()\n",
    "# all_subs.nunique()"
   ]
  },
  {
   "cell_type": "code",
   "execution_count": 3,
   "metadata": {},
   "outputs": [
    {
     "data": {
      "application/vnd.jupyter.widget-view+json": {
       "model_id": "1487b51dd83b4ab29c3430bb46e4a379",
       "version_major": 2,
       "version_minor": 0
      },
      "text/plain": [
       "HBox(children=(IntProgress(value=0, max=281), HTML(value='')))"
      ]
     },
     "metadata": {},
     "output_type": "display_data"
    },
    {
     "name": "stdout",
     "output_type": "stream",
     "text": [
      "\n"
     ]
    }
   ],
   "source": [
    "evs = []\n",
    "from tqdm.notebook import tqdm\n",
    "for i, sub in enumerate(tqdm(FR_subs)):\n",
    "\n",
    "#     print(sub, str(i/len(both)*100) + \"% Done\")\n",
    "    exp = 'FR1'\n",
    "    df_select = df[(df['subject']==sub) & (df['experiment']==exp)]\n",
    "    sessions = list(df[(df['subject']==sub) & (df['experiment']==exp)]['session'])\n",
    "    for sess in sessions:\n",
    "        reader = CMLReader(sub, exp, sess)\n",
    "        evs.append(reader.load('events'))\n",
    "evs = pd.concat(evs)"
   ]
  },
  {
   "cell_type": "code",
   "execution_count": 4,
   "metadata": {
    "tags": []
   },
   "outputs": [],
   "source": [
    "word_evs = evs[evs.type =='WORD']\n",
    "\n",
    "zscore = (word_evs.groupby(['subject', 'session', 'list']).recalled.sum().groupby(['subject', 'session']).mean().groupby('subject').mean()).reset_index()\n",
    "zscore['subject'] = zscore.subject.apply(lambda x: int(x[2:5]))\n",
    "zscore.set_index('subject',inplace=True)\n",
    "ages = pd.read_csv('FR1_subject_ages.csv')\n",
    "ages = ages.dropna(subset=['Age at Implant (calculated)']).set_index('Subject Number')\n",
    "zscore['age']=ages['Age at Implant (calculated)']\n",
    "zscore.to_csv('fr1_age.csv')\n",
    "# zscore['zscore'] = (zscore['recalled'] - mturk_mean)/mturk_std"
   ]
  },
  {
   "cell_type": "code",
   "execution_count": 5,
   "metadata": {
    "tags": []
   },
   "outputs": [],
   "source": [
    "first_five = word_evs[word_evs.list < 6]\n",
    "\n",
    "five_zscore = (first_five.groupby(['subject', 'session', 'list']).recalled.mean().groupby(['subject', 'session']).mean().groupby('subject').mean()).reset_index()\n",
    "\n",
    "mt_fr_ff = np.load('final_fr1_five_stats.npy')\n",
    "m_fr1_fmean = mt_fr_ff.mean()\n",
    "m_fr1_fstd = mt_fr_ff.std()\n",
    "five_zscore['zscore'] = (five_zscore.recalled - m_fr1_fmean )/ m_fr1_fstd\n",
    "fr_f_mean = five_zscore.zscore.mean()\n",
    "fr_f_std = five_zscore.zscore.std()\n",
    "fr_f_n = five_zscore.shape[0]\n",
    "fr_f_sem = fr_f_std/np.sqrt(fr_f_n)\n",
    "\n"
   ]
  },
  {
   "cell_type": "code",
   "execution_count": 6,
   "metadata": {
    "tags": []
   },
   "outputs": [],
   "source": [
    "age_test = zscore.dropna()\n",
    "r, p = scipy.stats.pearsonr(age_test.recalled, age_test.age)\n",
    "n = age_test.shape[0]\n",
    "np.save('FR1vAge.npy', [r, n])"
   ]
  },
  {
   "cell_type": "code",
   "execution_count": 7,
   "metadata": {},
   "outputs": [],
   "source": [
    "def get_age_group(age):\n",
    "    if 20 <= age < 30:\n",
    "        return '20-29'\n",
    "    elif 30 <= age < 40:\n",
    "        return '30-39'\n",
    "    elif 40 <= age <50:\n",
    "        return '40-49'\n",
    "    elif 50 <= age < 60:\n",
    "        return '50-59'\n",
    "    elif 60 <= age < 70:\n",
    "        return '60-69'\n",
    "    else:\n",
    "        return np.nan"
   ]
  },
  {
   "cell_type": "code",
   "execution_count": 8,
   "metadata": {},
   "outputs": [
    {
     "data": {
      "text/html": [
       "<div>\n",
       "<style scoped>\n",
       "    .dataframe tbody tr th:only-of-type {\n",
       "        vertical-align: middle;\n",
       "    }\n",
       "\n",
       "    .dataframe tbody tr th {\n",
       "        vertical-align: top;\n",
       "    }\n",
       "\n",
       "    .dataframe thead th {\n",
       "        text-align: right;\n",
       "    }\n",
       "</style>\n",
       "<table border=\"1\" class=\"dataframe\">\n",
       "  <thead>\n",
       "    <tr style=\"text-align: right;\">\n",
       "      <th></th>\n",
       "      <th>recalled</th>\n",
       "      <th>age</th>\n",
       "      <th>age_group</th>\n",
       "    </tr>\n",
       "    <tr>\n",
       "      <th>subject</th>\n",
       "      <th></th>\n",
       "      <th></th>\n",
       "      <th></th>\n",
       "    </tr>\n",
       "  </thead>\n",
       "  <tbody>\n",
       "    <tr>\n",
       "      <th>1</th>\n",
       "      <td>2.300000</td>\n",
       "      <td>48.105026</td>\n",
       "      <td>40-49</td>\n",
       "    </tr>\n",
       "    <tr>\n",
       "      <th>2</th>\n",
       "      <td>4.680000</td>\n",
       "      <td>49.383743</td>\n",
       "      <td>40-49</td>\n",
       "    </tr>\n",
       "    <tr>\n",
       "      <th>3</th>\n",
       "      <td>3.958182</td>\n",
       "      <td>39.390382</td>\n",
       "      <td>30-39</td>\n",
       "    </tr>\n",
       "    <tr>\n",
       "      <th>6</th>\n",
       "      <td>3.760000</td>\n",
       "      <td>20.553582</td>\n",
       "      <td>20-29</td>\n",
       "    </tr>\n",
       "    <tr>\n",
       "      <th>10</th>\n",
       "      <td>2.260000</td>\n",
       "      <td>30.801454</td>\n",
       "      <td>30-39</td>\n",
       "    </tr>\n",
       "    <tr>\n",
       "      <th>...</th>\n",
       "      <td>...</td>\n",
       "      <td>...</td>\n",
       "      <td>...</td>\n",
       "    </tr>\n",
       "    <tr>\n",
       "      <th>565</th>\n",
       "      <td>2.181818</td>\n",
       "      <td>41.243717</td>\n",
       "      <td>40-49</td>\n",
       "    </tr>\n",
       "    <tr>\n",
       "      <th>569</th>\n",
       "      <td>2.440000</td>\n",
       "      <td>22.573929</td>\n",
       "      <td>20-29</td>\n",
       "    </tr>\n",
       "    <tr>\n",
       "      <th>571</th>\n",
       "      <td>2.160000</td>\n",
       "      <td>31.283325</td>\n",
       "      <td>30-39</td>\n",
       "    </tr>\n",
       "    <tr>\n",
       "      <th>572</th>\n",
       "      <td>3.000000</td>\n",
       "      <td>35.820037</td>\n",
       "      <td>30-39</td>\n",
       "    </tr>\n",
       "    <tr>\n",
       "      <th>573</th>\n",
       "      <td>2.000000</td>\n",
       "      <td>41.700948</td>\n",
       "      <td>40-49</td>\n",
       "    </tr>\n",
       "  </tbody>\n",
       "</table>\n",
       "<p>262 rows × 3 columns</p>\n",
       "</div>"
      ],
      "text/plain": [
       "         recalled        age age_group\n",
       "subject                               \n",
       "1        2.300000  48.105026     40-49\n",
       "2        4.680000  49.383743     40-49\n",
       "3        3.958182  39.390382     30-39\n",
       "6        3.760000  20.553582     20-29\n",
       "10       2.260000  30.801454     30-39\n",
       "...           ...        ...       ...\n",
       "565      2.181818  41.243717     40-49\n",
       "569      2.440000  22.573929     20-29\n",
       "571      2.160000  31.283325     30-39\n",
       "572      3.000000  35.820037     30-39\n",
       "573      2.000000  41.700948     40-49\n",
       "\n",
       "[262 rows x 3 columns]"
      ]
     },
     "execution_count": 8,
     "metadata": {},
     "output_type": "execute_result"
    }
   ],
   "source": [
    "zscore['age_group'] = zscore.age.apply(get_age_group)\n",
    "zscore.dropna(subset=['age_group'], inplace=True)\n",
    "zscore"
   ]
  },
  {
   "cell_type": "code",
   "execution_count": 9,
   "metadata": {},
   "outputs": [],
   "source": [
    "def get_zscore(age_group, score, norms):\n",
    "    norms = norms[norms.age_group == age_group]\n",
    "    zscore = (score - norms['mean'].values[0])/norms['std'].values[0]\n",
    "    return zscore"
   ]
  },
  {
   "cell_type": "code",
   "execution_count": 10,
   "metadata": {},
   "outputs": [
    {
     "data": {
      "text/plain": [
       "subject\n",
       "1     -2.221764\n",
       "2     -0.835502\n",
       "3     -1.061704\n",
       "6     -1.816523\n",
       "10    -2.008570\n",
       "         ...   \n",
       "565   -2.290600\n",
       "569   -2.608937\n",
       "571   -2.064327\n",
       "572   -1.595963\n",
       "573   -2.396503\n",
       "Length: 262, dtype: float64"
      ]
     },
     "execution_count": 10,
     "metadata": {},
     "output_type": "execute_result"
    }
   ],
   "source": [
    "norms = pd.read_csv('catfr_mturk_norms.csv')\n",
    "zscore_by_age = zscore.apply(lambda x: get_zscore(x.age_group, x.recalled, norms), axis=1)\n",
    "zscore_by_age"
   ]
  },
  {
   "cell_type": "code",
   "execution_count": 14,
   "metadata": {},
   "outputs": [],
   "source": [
    "fr1_mean = zscore_by_age.mean()\n",
    "fr1_std = zscore_by_age.std()\n",
    "fr1_n = zscore_by_age.count()\n",
    "fr1_sem = fr1_std/np.sqrt(fr1_n)"
   ]
  },
  {
   "cell_type": "code",
   "execution_count": 16,
   "metadata": {},
   "outputs": [
    {
     "name": "stdout",
     "output_type": "stream",
     "text": [
      "262 192.0 111.0 161.0\n"
     ]
    },
    {
     "data": {
      "image/png": "[encoded data removed]",
      "text/plain": [
       "<Figure size 504x504 with 1 Axes>"
      ]
     },
     "metadata": {
      "needs_background": "light"
     },
     "output_type": "display_data"
    }
   ],
   "source": [
    "rav_turk= np.load('ravmturkhospitalzscore.npy')\n",
    "turk_mean = rav_turk[0]\n",
    "turk_std = rav_turk[1]\n",
    "turk_n = rav_turk[2]\n",
    "turk_sem = turk_std/np.sqrt(turk_n)\n",
    "\n",
    "cat_turk = np.load('cathospitalzscore.npy')\n",
    "cat_mean = cat_turk[0]\n",
    "cat_std = cat_turk[1]\n",
    "cat_n = cat_turk[2]\n",
    "cat_sem = cat_std/np.sqrt(cat_n)\n",
    "\n",
    "rav_mean_std = np.load('ravhospitalzscore.npy')\n",
    "rav_mean = rav_mean_std[0]\n",
    "rav_std = rav_mean_std[1]\n",
    "rav_n = rav_mean_std[2]\n",
    "rav_sem = rav_std/np.sqrt(rav_n)\n",
    "\n",
    "cvl = np.load('cvlhospitalzscore.npy')\n",
    "cvl_mean = cvl[0]\n",
    "cvl_std = cvl[1]\n",
    "cvl_n = cvl[2]\n",
    "cvl_sem = cvl_std/np.sqrt(cvl_n)\n",
    "\n",
    "cat_five = np.load('cat_five_zscore.npy')\n",
    "cat_fmean = cat_five.mean()\n",
    "cat_fstd = cat_five.std()\n",
    "cat_f_n = cat_five.shape[0]\n",
    "cat_fsem = cat_fstd/np.sqrt(cat_f_n)\n",
    "\n",
    "print(fr1_n, cat_n, rav_n, cvl_n)\n",
    "set_axes(fontsize = 25)\n",
    "# *** WITH First 5 *** #\n",
    "# sns.barplot(x = ['FR', 'FR First 5', 'CatFR', 'CatFR First 5', 'RAVLT', 'CVLT'],y=[fr1_mean, fr_f_mean, cat_mean, cat_fmean, rav_mean, cvl_mean], palette=['C0', 'C0'])\n",
    "# plt.errorbar(x=['FR', 'FR First 5', 'CatFR', 'CatFR First 5', 'RAVLT', 'CVLT'], y = [fr1_mean, fr_f_mean, cat_mean, cat_fmean, rav_mean, cvl_mean], yerr = [fr1_sem, fr_f_sem, cat_sem, cat_fsem, rav_sem, cvl_sem], linestyle='', color = 'black', capsize= 7, capthick=3, elinewidth=3)\n",
    "sns.barplot(x = ['FR', 'CatFR', 'RAVLT', 'CVLT'],y=[fr1_mean, cat_mean, rav_mean, cvl_mean], palette=['C0', 'C0'])\n",
    "plt.errorbar(x=['FR', 'CatFR', 'RAVLT', 'CVLT'], y = [fr1_mean, cat_mean, rav_mean, cvl_mean], yerr = [fr1_sem, cat_sem, rav_sem, cvl_sem], linestyle='', color = 'black', capsize= 7, capthick=3, elinewidth=3)\n",
    "plt.ylabel('Mean Z-Score (Healthy Mean)', fontsize=20)\n",
    "# plt.xticks(fontsize = 20, rotation = 45)\n",
    "plt.savefig('figures/hosp_vs_healthy.pdf', bbox_inches='tight')\n"
   ]
  },
  {
   "cell_type": "code",
   "execution_count": null,
   "metadata": {},
   "outputs": [],
   "source": []
  }
 ],
 "metadata": {
  "kernelspec": {
   "display_name": "bub",
   "language": "python",
   "name": "bub"
  },
  "language_info": {
   "codemirror_mode": {
    "name": "ipython",
    "version": 3
   },
   "file_extension": ".py",
   "mimetype": "text/x-python",
   "name": "python",
   "nbconvert_exporter": "python",
   "pygments_lexer": "ipython3",
   "version": "3.7.3"
  }
 },
 "nbformat": 4,
 "nbformat_minor": 4
}

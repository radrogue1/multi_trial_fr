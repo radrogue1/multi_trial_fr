{
 "cells": [
  {
   "cell_type": "code",
   "execution_count": 1,
   "metadata": {},
   "outputs": [],
   "source": [
    "import numpy as np\n",
    "import pandas as pd\n",
    "import os\n",
    "import glob\n",
    "import seaborn as sns\n",
    "import matplotlib.pyplot as plt\n",
    "from datetime import datetime\n",
    "import scipy\n",
    "import warnings\n",
    "from pandas.core.common import SettingWithCopyWarning\n",
    "warnings.simplefilter(action='ignore', category=SettingWithCopyWarning)\n",
    "warnings.simplefilter(action='ignore', category=FutureWarning)\n",
    "warnings.simplefilter(action='ignore', category=RuntimeWarning)\n",
    "warnings.simplefilter(action='ignore', category=DeprecationWarning)\n",
    "import pandas_to_pybeh as pb\n",
    "from cmlreaders import CMLReader, get_data_index\n",
    "from plotting import *"
   ]
  },
  {
   "cell_type": "code",
   "execution_count": 2,
   "metadata": {},
   "outputs": [
    {
     "name": "stdout",
     "output_type": "stream",
     "text": [
      "Total number of catFR subjects:  243\n"
     ]
    }
   ],
   "source": [
    "# 1. If I want all FR1 and pyFR subjects\n",
    "df = get_data_index(\"r1\")\n",
    "FR1_subs=df[df['experiment']=='catFR1']['subject'].unique() # all FR1 subjects\n",
    "exp = 'catFR1' \n",
    "\n",
    "FR_subs=[]\n",
    "FR_subs = list(FR1_subs)\n",
    "print('Total number of catFR subjects: ',len(FR_subs))\n",
    "np.save('catfrsubs',FR1_subs)"
   ]
  },
  {
   "cell_type": "code",
   "execution_count": 3,
   "metadata": {},
   "outputs": [
    {
     "data": {
      "application/vnd.jupyter.widget-view+json": {
       "model_id": "31762a79ad1341e6be3169c989660d05",
       "version_major": 2,
       "version_minor": 0
      },
      "text/plain": [
       "HBox(children=(IntProgress(value=0, max=243), HTML(value='')))"
      ]
     },
     "metadata": {},
     "output_type": "display_data"
    },
    {
     "name": "stdout",
     "output_type": "stream",
     "text": [
      "R1221P catFR1\n",
      "\n"
     ]
    }
   ],
   "source": [
    "evs = []\n",
    "from tqdm.notebook import tqdm\n",
    "for i, sub in enumerate(tqdm(FR_subs)):\n",
    "    try:\n",
    "#     print(sub, str(i/len(both)*100) + \"% Done\")\n",
    "        df_select = df[(df['subject']==sub) & (df['experiment']==exp)]\n",
    "        sessions = list(df[(df['subject']==sub) & (df['experiment']==exp)]['session'])\n",
    "        for sess in sessions:\n",
    "            reader = CMLReader(sub, exp, sess)\n",
    "            evs.append(reader.load('events'))\n",
    "    except:\n",
    "        print(sub,exp)\n",
    "evs = pd.concat(evs)\n",
    "word_evs = evs[evs.type =='WORD']"
   ]
  },
  {
   "cell_type": "code",
   "execution_count": 45,
   "metadata": {},
   "outputs": [],
   "source": [
    "zscore = (word_evs.groupby(['subject', 'session', 'list']).recalled.mean().groupby(['subject', 'session']).mean().groupby('subject').mean()*12).reset_index()\n",
    "zscore['subject'] = zscore.subject.apply(lambda x: int(x[2:5]))\n",
    "zscore.set_index('subject',inplace=True)\n",
    "ages = pd.read_csv('catFR1_subject_ages.csv')\n",
    "ages = ages.dropna(subset=['Age at Implant (calculated)']).set_index('Subject Number')\n",
    "zscore['age']=ages['Age at Implant (calculated)']\n",
    "zscore['recalled'] = zscore.recalled\n",
    "zscore['recalled'].mean()\n",
    "zscore.dropna(inplace=True)\n",
    "zscore.to_csv('cat_age.csv')"
   ]
  },
  {
   "cell_type": "code",
   "execution_count": 46,
   "metadata": {
    "tags": []
   },
   "outputs": [
    {
     "name": "stdout",
     "output_type": "stream",
     "text": [
      "r(196) = -0.34329045150921766, p = 7.374388909851519e-07\n"
     ]
    },
    {
     "data": {
      "image/png": "[encoded data removed]",
      "text/plain": [
       "<Figure size 504x504 with 1 Axes>"
      ]
     },
     "metadata": {
      "needs_background": "light"
     },
     "output_type": "display_data"
    }
   ],
   "source": [
    "set_axes(fontsize=30, ylim=[0,1])\n",
    "\n",
    "sns.regplot(data=zscore, x='age', y = 'recalled', color = 'black', scatter_kws=dict(s = 25), line_kws=dict(linewidth=5))\n",
    "zscore.dropna(inplace=True)\n",
    "n=zscore.shape[0]\n",
    "r,p = scipy.stats.pearsonr(zscore['age'], zscore['recalled'])\n",
    "_=plt.xlabel('Age (years)')\n",
    "_=plt.ylabel('Recall Probability')\n",
    "print('r({}) = {}, p = {}'.format(n-2,r,p))\n",
    "plt.savefig('catFR1_age.pdf', bbox_inches='tight')"
   ]
  },
  {
   "cell_type": "code",
   "execution_count": 47,
   "metadata": {},
   "outputs": [],
   "source": [
    "np.save('CATvAge', [r,n])"
   ]
  },
  {
   "cell_type": "code",
   "execution_count": null,
   "metadata": {},
   "outputs": [],
   "source": [
    "def get_age_group(age):\n",
    "    if 20 <= age < 30:\n",
    "        return '20-29'\n",
    "    elif 30 <= age < 40:\n",
    "        return '30-39'\n",
    "    elif 40 <= age <50:\n",
    "        return '40-49'\n",
    "    elif 50 <= age < 60:\n",
    "        return '50-59'\n",
    "    elif 60 <= age < 70:\n",
    "        return '60-69'\n",
    "    else:\n",
    "        return np.nan"
   ]
  },
  {
   "cell_type": "code",
   "execution_count": null,
   "metadata": {},
   "outputs": [],
   "source": [
    "zscore['age_group'] = zscore.age.apply(get_age_group)\n",
    "zscore.dropna(subset=['age_group'], inplace=True)"
   ]
  },
  {
   "cell_type": "code",
   "execution_count": 54,
   "metadata": {},
   "outputs": [],
   "source": [
    "def get_zscore(age_group, score, norms):\n",
    "    norms = norms[norms.age_group == age_group]\n",
    "    zscore = (score - norms['mean'].values[0])/norms['std'].values[0]\n",
    "    return zscore"
   ]
  },
  {
   "cell_type": "code",
   "execution_count": 57,
   "metadata": {},
   "outputs": [
    {
     "data": {
      "text/plain": [
       "-1.4636365365213466"
      ]
     },
     "execution_count": 57,
     "metadata": {},
     "output_type": "execute_result"
    }
   ],
   "source": [
    "norms = pd.read_csv('catfr_mturk_norms.csv')\n",
    "zscore_by_age = zscore.apply(lambda x: get_zscore(x.age_group, x.recalled, norms), axis=1)\n"
   ]
  },
  {
   "cell_type": "code",
   "execution_count": 61,
   "metadata": {},
   "outputs": [],
   "source": [
    "zscore_mean = zscore_by_age.mean()\n",
    "zscore_std = zscore_by_age.std()\n",
    "zscore_n = zscore_by_age.count()\n",
    "np.save('cathospitalzscore', [zscore_mean, zscore_std, zscore_n])"
   ]
  },
  {
   "cell_type": "code",
   "execution_count": 33,
   "metadata": {},
   "outputs": [],
   "source": [
    "mturk_cat_five = np.load('five_final_catfr.npy', allow_pickle = True)\n",
    "mt_five_mean = mturk_cat_five.mean()\n",
    "mt_five_std = mturk_cat_five.std()\n",
    "first_five = word_evs[word_evs.list < 6]\n",
    "five_zscore = first_five.groupby(['subject', 'session', 'list']).recalled.mean().groupby(['subject', 'session']).mean().groupby('subject').mean().reset_index()\n",
    "five_zscore['zscore'] = (five_zscore.recalled - mt_five_mean)/mt_five_std"
   ]
  },
  {
   "cell_type": "code",
   "execution_count": 36,
   "metadata": {},
   "outputs": [],
   "source": [
    "np.save('cat_five_zscore', five_zscore.zscore)"
   ]
  },
  {
   "cell_type": "code",
   "execution_count": 27,
   "metadata": {},
   "outputs": [
    {
     "data": {
      "text/plain": [
       "0.3128547640267232"
      ]
     },
     "execution_count": 27,
     "metadata": {},
     "output_type": "execute_result"
    }
   ],
   "source": []
  },
  {
   "cell_type": "code",
   "execution_count": null,
   "metadata": {},
   "outputs": [],
   "source": []
  }
 ],
 "metadata": {
  "kernelspec": {
   "display_name": "bub",
   "language": "python",
   "name": "bub"
  },
  "language_info": {
   "codemirror_mode": {
    "name": "ipython",
    "version": 3
   },
   "file_extension": ".py",
   "mimetype": "text/x-python",
   "name": "python",
   "nbconvert_exporter": "python",
   "pygments_lexer": "ipython3",
   "version": "3.7.3"
  }
 },
 "nbformat": 4,
 "nbformat_minor": 4
}

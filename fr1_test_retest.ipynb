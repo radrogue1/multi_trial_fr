{
 "cells": [
  {
   "cell_type": "code",
   "execution_count": 1,
   "id": "00c07306-7a0a-44cd-9bb3-4aee27f53e66",
   "metadata": {},
   "outputs": [],
   "source": [
    "import numpy as np\n",
    "import pandas as pd\n",
    "import os\n",
    "import glob\n",
    "import seaborn as sns\n",
    "import matplotlib.pyplot as plt\n",
    "import datetime\n",
    "from datetime import date as f_date\n",
    "import scipy\n",
    "import warnings\n",
    "from pandas.core.common import SettingWithCopyWarning\n",
    "warnings.simplefilter(action='ignore', category=SettingWithCopyWarning)\n",
    "warnings.simplefilter(action='ignore', category=FutureWarning)\n",
    "warnings.simplefilter(action='ignore', category=RuntimeWarning)\n",
    "warnings.simplefilter(action='ignore', category=DeprecationWarning)\n",
    "import pandas_to_pybeh as pb\n",
    "from cmlreaders import CMLReader, get_data_index\n",
    "from plotting import *"
   ]
  },
  {
   "cell_type": "code",
   "execution_count": 2,
   "id": "2b5515b0-dcd8-4579-88a4-0e71c9c9a949",
   "metadata": {},
   "outputs": [
    {
     "name": "stdout",
     "output_type": "stream",
     "text": [
      "Total number of FR subjects:  281\n"
     ]
    }
   ],
   "source": [
    "# 1. If I want all FR1 and pyFR subjects\n",
    "df = get_data_index(\"r1\")\n",
    "FR1_subs=df[df['experiment']=='FR1']['subject'].unique() # all FR1 subjects\n",
    "exp = 'FR1' \n",
    "\n",
    "FR_subs=[]\n",
    "FR_subs = list(FR1_subs)\n",
    "print('Total number of FR subjects: ',len(FR_subs))"
   ]
  },
  {
   "cell_type": "code",
   "execution_count": 57,
   "id": "6d8990c7-174c-4033-8df8-bfaef49334e5",
   "metadata": {},
   "outputs": [
    {
     "data": {
      "application/vnd.jupyter.widget-view+json": {
       "model_id": "12ab9595956e4edb90c4a4752b31f200",
       "version_major": 2,
       "version_minor": 0
      },
      "text/plain": [
       "HBox(children=(IntProgress(value=0, max=281), HTML(value='')))"
      ]
     },
     "metadata": {},
     "output_type": "display_data"
    },
    {
     "name": "stdout",
     "output_type": "stream",
     "text": [
      "\n"
     ]
    }
   ],
   "source": [
    "evs = []\n",
    "from tqdm.notebook import tqdm\n",
    "for i, sub in enumerate(tqdm(FR_subs)):\n",
    "\n",
    "#     print(sub, str(i/len(both)*100) + \"% Done\")\n",
    "    exp = 'FR1'\n",
    "    df_select = df[(df['subject']==sub) & (df['experiment']==exp)]\n",
    "    sessions = list(df[(df['subject']==sub) & (df['experiment']==exp)]['session'])\n",
    "    for sess in sessions:\n",
    "        reader = CMLReader(sub, exp, sess)\n",
    "        evs.append(reader.load('events'))\n",
    "evs = pd.concat(evs)\n",
    "word_evs = evs[evs.type=='WORD']\n",
    "word_evs = word_evs[word_evs != -1]"
   ]
  },
  {
   "cell_type": "code",
   "execution_count": 58,
   "id": "dcd28323-3133-4c27-8347-d14ab79e0320",
   "metadata": {},
   "outputs": [],
   "source": [
    "def get_date(ms):\n",
    "    date = f_date.fromtimestamp(ms/1000.0)\n",
    "    return date"
   ]
  },
  {
   "cell_type": "code",
   "execution_count": 59,
   "id": "0e15d0a8-d446-4874-8996-0c4e2bb6589d",
   "metadata": {},
   "outputs": [
    {
     "data": {
      "application/vnd.jupyter.widget-view+json": {
       "model_id": "790715d9b289426387c1c4c3d4279799",
       "version_major": 2,
       "version_minor": 0
      },
      "text/plain": [
       "HBox(children=(IntProgress(value=1, bar_style='info', max=1), HTML(value='')))"
      ]
     },
     "metadata": {},
     "output_type": "display_data"
    },
    {
     "name": "stdout",
     "output_type": "stream",
     "text": [
      "\n"
     ]
    }
   ],
   "source": [
    "check_lists = word_evs.groupby(['subject', 'session']).list.nunique()\n",
    "check_lists = check_lists[check_lists==12]\n",
    "check_sess = check_lists.groupby('subject').count()\n",
    "check_sess = check_sess[check_sess>1]\n",
    "good_subs = check_sess.index\n",
    "check_lists = check_lists.reset_index()\n",
    "check_lists = check_lists[check_lists.subject.isin(good_subs)]\n",
    "evs = []\n",
    "for i, row in tqdm(check_lists.iterrows()):\n",
    "    sub = row.subject\n",
    "    sess = row.session\n",
    "    \n",
    "    exp = 'FR1'\n",
    "    reader = CMLReader(sub, exp, sess)\n",
    "    evs.append(reader.load('events'))\n",
    "evs = pd.concat(evs, ignore_index=True)"
   ]
  },
  {
   "cell_type": "code",
   "execution_count": 93,
   "id": "1ab08773-2319-450a-bdd7-86ad628a80ec",
   "metadata": {},
   "outputs": [
    {
     "name": "stdout",
     "output_type": "stream",
     "text": [
      "Empty DataFrame\n",
      "Columns: [session, datetime]\n",
      "Index: []\n"
     ]
    }
   ],
   "source": [
    "evs['datetime'] = evs.mstime.apply(get_date)\n",
    "shift = evs.groupby(['subject', 'session']).datetime.agg('min').diff().reset_index('session')\n",
    "first_sess = evs.groupby(['subject']).session.agg('min')\n",
    "# shift[shift == first_sess]\n",
    "shift['min_sess'] = first_sess\n",
    "shift.loc[shift['session'] == shift['min_sess'], 'datetime'] = ''\n",
    "shift.drop('min_sess',1,inplace=True)\n",
    "bad_shift = shift[shift.datetime == pd.Timedelta(\"0 days\")]\n",
    "print(bad_shift)\n",
    "for i, row in bad_shift.reset_index().iterrows():\n",
    "    bad_sub = row.subject\n",
    "    bad_sess = row.session\n",
    "    bad_evs = evs[(evs.subject==bad_sub) & (evs.session==bad_sess)].index\n",
    "    evs.drop(bad_evs,inplace=True)\n",
    "    # evs[(evs.subject.isinb(bad_shift.index)) & (evs.session.isin(bad_shift.session))]"
   ]
  },
  {
   "cell_type": "code",
   "execution_count": 96,
   "id": "5693eb6b-6eeb-4574-afa6-d23f271ee7c8",
   "metadata": {},
   "outputs": [
    {
     "name": "stdout",
     "output_type": "stream",
     "text": [
      "r = 0.826176262195078, p = 1.1091701643591156e-07, n = 27\n"
     ]
    },
    {
     "data": {
      "image/png": "[encoded data removed]",
      "text/plain": [
       "<Figure size 504x504 with 1 Axes>"
      ]
     },
     "metadata": {
      "needs_background": "light"
     },
     "output_type": "display_data"
    }
   ],
   "source": [
    "evs['even'] = evs['session']%2 == 0\n",
    "word_evs = evs[evs.type == 'WORD']\n",
    "word_evs= word_evs[~word_evs.list.isin([0, -999, -1])]\n",
    "\n",
    "test_retest = word_evs.groupby(['subject', 'even']).recalled.mean().reset_index()\n",
    "even_retest = test_retest[test_retest.even==True]\n",
    "odd_retest = test_retest[test_retest.even==False]\n",
    "odd_retest.rename(columns=dict(recalled='odd'), inplace=True)\n",
    "odd_retest.set_index('subject', inplace=True)\n",
    "even_retest.set_index('subject', inplace=True)\n",
    "even_retest.drop('even', 1, inplace=True)\n",
    "even_retest.rename(columns=dict(recalled='even'), inplace=True)\n",
    "test_retest = even_retest.copy()\n",
    "test_retest['odd'] = odd_retest.odd\n",
    "set_axes()\n",
    "test_retest.dropna(inplace=True)\n",
    "sns.regplot(data = test_retest, x = 'even', y = 'odd', color = 'black')\n",
    "\n",
    "r, p = scipy.stats.pearsonr(test_retest['even'], test_retest['odd'])\n",
    "n = test_retest.shape[0]\n",
    "print('r = {}, p = {}, n = {}'.format(r,p,n))\n",
    "np.save('fr1_test_retest', [r,p,n])"
   ]
  },
  {
   "cell_type": "code",
   "execution_count": 30,
   "id": "d68c3c39-33c8-44f9-ad8b-bab7eda2b312",
   "metadata": {},
   "outputs": [],
   "source": [
    "find_halves = word_evs.groupby(['subject', 'session']).item_name.count()\n"
   ]
  },
  {
   "cell_type": "code",
   "execution_count": 31,
   "id": "0bfe58f3-030e-424c-a060-868564975260",
   "metadata": {},
   "outputs": [
    {
     "data": {
      "text/plain": [
       "subject  session\n",
       "R1001P   0          300\n",
       "         1          300\n",
       "R1002P   0          300\n",
       "         1          300\n",
       "R1003P   0          264\n",
       "                   ... \n",
       "R1565T   0          130\n",
       "R1569T   0          300\n",
       "R1571T   0          300\n",
       "R1572T   0           60\n",
       "R1573T   0          112\n",
       "Name: item_name, Length: 587, dtype: int64"
      ]
     },
     "execution_count": 31,
     "metadata": {},
     "output_type": "execute_result"
    }
   ],
   "source": [
    "find_halves"
   ]
  },
  {
   "cell_type": "code",
   "execution_count": 78,
   "id": "0a53859d-98fb-42df-9302-eeb61eec01e1",
   "metadata": {},
   "outputs": [
    {
     "name": "stderr",
     "output_type": "stream",
     "text": [
      "/usr/global/Anaconda/2019-10/lib/python3.7/site-packages/ipykernel_launcher.py:4: UserWarning: Boolean Series key will be reindexed to match DataFrame index.\n",
      "  after removing the cwd from sys.path.\n"
     ]
    },
    {
     "data": {
      "text/html": [
       "<div>\n",
       "<style scoped>\n",
       "    .dataframe tbody tr th:only-of-type {\n",
       "        vertical-align: middle;\n",
       "    }\n",
       "\n",
       "    .dataframe tbody tr th {\n",
       "        vertical-align: top;\n",
       "    }\n",
       "\n",
       "    .dataframe thead th {\n",
       "        text-align: right;\n",
       "    }\n",
       "</style>\n",
       "<table border=\"1\" class=\"dataframe\">\n",
       "  <thead>\n",
       "    <tr style=\"text-align: right;\">\n",
       "      <th></th>\n",
       "      <th>session</th>\n",
       "      <th>datetime</th>\n",
       "    </tr>\n",
       "    <tr>\n",
       "      <th>subject</th>\n",
       "      <th></th>\n",
       "      <th></th>\n",
       "    </tr>\n",
       "  </thead>\n",
       "  <tbody>\n",
       "    <tr>\n",
       "      <th>R1001P</th>\n",
       "      <td>0</td>\n",
       "      <td>NaT</td>\n",
       "    </tr>\n",
       "    <tr>\n",
       "      <th>R1001P</th>\n",
       "      <td>1</td>\n",
       "      <td>1 days 00:00:00</td>\n",
       "    </tr>\n",
       "    <tr>\n",
       "      <th>R1002P</th>\n",
       "      <td>0</td>\n",
       "      <td>NaT</td>\n",
       "    </tr>\n",
       "    <tr>\n",
       "      <th>R1002P</th>\n",
       "      <td>1</td>\n",
       "      <td>1 days 00:00:00</td>\n",
       "    </tr>\n",
       "    <tr>\n",
       "      <th>R1003P</th>\n",
       "      <td>0</td>\n",
       "      <td>NaT</td>\n",
       "    </tr>\n",
       "    <tr>\n",
       "      <th>...</th>\n",
       "      <td>...</td>\n",
       "      <td>...</td>\n",
       "    </tr>\n",
       "    <tr>\n",
       "      <th>R1542J</th>\n",
       "      <td>1</td>\n",
       "      <td>NaN</td>\n",
       "    </tr>\n",
       "    <tr>\n",
       "      <th>R1542J</th>\n",
       "      <td>2</td>\n",
       "      <td>1 days 00:00:00</td>\n",
       "    </tr>\n",
       "    <tr>\n",
       "      <th>R1542J</th>\n",
       "      <td>3</td>\n",
       "      <td>2 days 00:00:00</td>\n",
       "    </tr>\n",
       "    <tr>\n",
       "      <th>R1542J</th>\n",
       "      <td>4</td>\n",
       "      <td>NaN</td>\n",
       "    </tr>\n",
       "    <tr>\n",
       "      <th>R1542J</th>\n",
       "      <td>5</td>\n",
       "      <td>2 days 00:00:00</td>\n",
       "    </tr>\n",
       "  </tbody>\n",
       "</table>\n",
       "<p>466 rows × 2 columns</p>\n",
       "</div>"
      ],
      "text/plain": [
       "         session         datetime\n",
       "subject                          \n",
       "R1001P         0              NaT\n",
       "R1001P         1  1 days 00:00:00\n",
       "R1002P         0              NaT\n",
       "R1002P         1  1 days 00:00:00\n",
       "R1003P         0              NaT\n",
       "...          ...              ...\n",
       "R1542J         1              NaN\n",
       "R1542J         2  1 days 00:00:00\n",
       "R1542J         3  2 days 00:00:00\n",
       "R1542J         4              NaN\n",
       "R1542J         5  2 days 00:00:00\n",
       "\n",
       "[466 rows x 2 columns]"
      ]
     },
     "execution_count": 78,
     "metadata": {},
     "output_type": "execute_result"
    }
   ],
   "source": [
    "check_dates = evs.groupby(['subject', 'session']).datetime.first().groupby(['subject']).diff().reset_index()\n",
    "check_dates = check_dates[check_dates!=datetime.timedelta(0)].set_index('subject')\n",
    "\n",
    "check_dates = check_dates[check_dates.groupby('subject').apply(lambda x: ~x.datetime.isna().all())]\n",
    "check_dates"
   ]
  },
  {
   "cell_type": "code",
   "execution_count": null,
   "id": "0e12fbae-0cb7-47e6-8733-5da43d374ffe",
   "metadata": {},
   "outputs": [],
   "source": []
  }
 ],
 "metadata": {
  "kernelspec": {
   "display_name": "bub",
   "language": "python",
   "name": "bub"
  },
  "language_info": {
   "codemirror_mode": {
    "name": "ipython",
    "version": 3
   },
   "file_extension": ".py",
   "mimetype": "text/x-python",
   "name": "python",
   "nbconvert_exporter": "python",
   "pygments_lexer": "ipython3",
   "version": "3.7.3"
  }
 },
 "nbformat": 4,
 "nbformat_minor": 5
}

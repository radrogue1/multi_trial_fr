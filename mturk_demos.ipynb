{
 "cells": [
  {
   "cell_type": "code",
   "execution_count": 1,
   "id": "03213c20-77d3-42fd-b7f5-88a4b7aafc10",
   "metadata": {},
   "outputs": [],
   "source": [
    "import pandas as pd\n",
    "import numpy as np\n"
   ]
  },
  {
   "cell_type": "code",
   "execution_count": 10,
   "id": "63a5c444-5df1-4a19-9fe2-b200457f2a7a",
   "metadata": {},
   "outputs": [],
   "source": [
    "fr1 = pd.read_csv('data/single_sess_fr.csv')\n",
    "catfr = pd.read_csv('data/single_sess_catfr.csv')\n",
    "cvl = pd.read_csv('data/single_sess_cvlt.csv')\n"
   ]
  },
  {
   "cell_type": "code",
   "execution_count": 38,
   "id": "7fa9bb92-b4d6-4365-8290-0958a5300a67",
   "metadata": {},
   "outputs": [],
   "source": [
    "# ages = pd.concat([fr1.age, catfr.age, cvl.age])\n",
    "# genders = pd.concat([fr1.gender, catfr.gender, cvl.gender])\n",
    "all_ = pd.concat([fr1, catfr, cvl], ignore_index=True)\n",
    "demos = all_.groupby('subject').first()\n"
   ]
  },
  {
   "cell_type": "code",
   "execution_count": 40,
   "id": "6b695d86-c550-4e12-8fba-bd2dd55dbb2b",
   "metadata": {},
   "outputs": [],
   "source": [
    "ages = demos.age.dropna()"
   ]
  },
  {
   "cell_type": "code",
   "execution_count": 41,
   "id": "dd98b44d-61d4-49d4-a2f9-5fcbd443d342",
   "metadata": {},
   "outputs": [
    {
     "data": {
      "text/plain": [
       "19.0"
      ]
     },
     "execution_count": 41,
     "metadata": {},
     "output_type": "execute_result"
    }
   ],
   "source": [
    "ages.min()"
   ]
  },
  {
   "cell_type": "code",
   "execution_count": 42,
   "id": "2877ed0a-7061-480c-a6d2-8dfadf8e605c",
   "metadata": {},
   "outputs": [
    {
     "data": {
      "text/plain": [
       "69.0"
      ]
     },
     "execution_count": 42,
     "metadata": {},
     "output_type": "execute_result"
    }
   ],
   "source": [
    "ages.max()"
   ]
  },
  {
   "cell_type": "code",
   "execution_count": 43,
   "id": "0f67070b-1df0-4f65-a7a0-177b0b29241d",
   "metadata": {},
   "outputs": [
    {
     "data": {
      "text/plain": [
       "36.44015444015444"
      ]
     },
     "execution_count": 43,
     "metadata": {},
     "output_type": "execute_result"
    }
   ],
   "source": [
    "ages.mean()"
   ]
  },
  {
   "cell_type": "code",
   "execution_count": 44,
   "id": "2e051ae7-007f-4b39-a1a0-c4324a6b0fdd",
   "metadata": {},
   "outputs": [],
   "source": [
    "genders = demos.gender.dropna()"
   ]
  },
  {
   "cell_type": "code",
   "execution_count": 49,
   "id": "48c408b3-0fdd-4d7f-81d3-dd37bcdb4013",
   "metadata": {},
   "outputs": [
    {
     "data": {
      "text/plain": [
       "0.4893822393822394"
      ]
     },
     "execution_count": 49,
     "metadata": {},
     "output_type": "execute_result"
    }
   ],
   "source": [
    "sum(genders=='male')/genders.shape[0]"
   ]
  },
  {
   "cell_type": "code",
   "execution_count": 46,
   "id": "4fb05d39-884a-4e7a-aa33-208d01d3e7e8",
   "metadata": {},
   "outputs": [
    {
     "data": {
      "text/plain": [
       "528"
      ]
     },
     "execution_count": 46,
     "metadata": {},
     "output_type": "execute_result"
    }
   ],
   "source": [
    "sum(genders == 'female')"
   ]
  },
  {
   "cell_type": "code",
   "execution_count": 48,
   "id": "f932f286-2f42-4343-82d9-7ac006814cf3",
   "metadata": {},
   "outputs": [
    {
     "data": {
      "text/plain": [
       "1036"
      ]
     },
     "execution_count": 48,
     "metadata": {},
     "output_type": "execute_result"
    }
   ],
   "source": [
    "genders.shape[0]"
   ]
  },
  {
   "cell_type": "code",
   "execution_count": 53,
   "id": "7bc74343-fe5d-4dbf-906d-a56ed95601d9",
   "metadata": {},
   "outputs": [
    {
     "data": {
      "text/plain": [
       "0.6998069498069498"
      ]
     },
     "execution_count": 53,
     "metadata": {},
     "output_type": "execute_result"
    }
   ],
   "source": [
    "degr = demos.degree.dropna()\n",
    "sum(degr=='bachelors')/degr.shape[0]"
   ]
  }
 ],
 "metadata": {
  "kernelspec": {
   "display_name": "bub",
   "language": "python",
   "name": "bub"
  },
  "language_info": {
   "codemirror_mode": {
    "name": "ipython",
    "version": 3
   },
   "file_extension": ".py",
   "mimetype": "text/x-python",
   "name": "python",
   "nbconvert_exporter": "python",
   "pygments_lexer": "ipython3",
   "version": "3.7.3"
  }
 },
 "nbformat": 4,
 "nbformat_minor": 5
}
